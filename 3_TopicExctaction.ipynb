{
 "cells": [
  {
   "cell_type": "markdown",
   "metadata": {},
   "source": [
    "### En este notebook finalmente probaré si un Topic extraction no supervisado funciona mejor que los anteriores modelos."
   ]
  },
  {
   "cell_type": "code",
   "execution_count": 1,
   "metadata": {},
   "outputs": [],
   "source": [
    "import spacy\n",
    "from pprint import pprint\n",
    "import warnings\n",
    "warnings.filterwarnings('ignore')\n",
    "warnings.filterwarnings('ignore', category=DeprecationWarning)\n",
    "\n",
    "import gensim.corpora as corpora\n",
    "from gensim.models import LdaModel"
   ]
  },
  {
   "cell_type": "code",
   "execution_count": 2,
   "metadata": {},
   "outputs": [],
   "source": [
    "nlp = spacy.load('es_core_news_md', disable = ['parser', 'ner'])\n",
    "stop_words = nlp.Defaults.stop_words\n",
    "\n",
    "def lemmatize_doc(text, allowed_postags=['NOUN', 'ADJ', 'VERB', 'ADV', 'PROPN']):\n",
    "    text_out = [t.lemma_.lower() for t in nlp(text)\n",
    "                if t.pos_ in allowed_postags\n",
    "                and len(t.lemma_)>3\n",
    "                and not t.is_stop]\n",
    "    return text_out\n",
    "\n",
    "def build_texts(fname):\n",
    "    with open(fname) as f:\n",
    "        for line in f:\n",
    "            yield lemmatize_doc(line)"
   ]
  },
  {
   "cell_type": "code",
   "execution_count": 3,
   "metadata": {},
   "outputs": [],
   "source": [
    "lee_data_file = 'sem_eval_train_es_topic.csv'"
   ]
  },
  {
   "cell_type": "code",
   "execution_count": 4,
   "metadata": {},
   "outputs": [
    {
     "name": "stdout",
     "output_type": "stream",
     "text": [
      "2018-Es-01643,\"@aliciaenp Ajajjaa somos del clan twitteras perdidas pa eventos \"\"importantes\"\" \"\n",
      "\n"
     ]
    }
   ],
   "source": [
    "with open(lee_data_file) as f:\n",
    "    for line in f:\n",
    "        print(line)\n",
    "        break"
   ]
  },
  {
   "cell_type": "code",
   "execution_count": 5,
   "metadata": {},
   "outputs": [],
   "source": [
    "texto = build_texts(lee_data_file)"
   ]
  },
  {
   "cell_type": "code",
   "execution_count": 6,
   "metadata": {},
   "outputs": [],
   "source": [
    "lista_procesado = [c for c in texto]"
   ]
  },
  {
   "cell_type": "code",
   "execution_count": 7,
   "metadata": {},
   "outputs": [
    {
     "data": {
      "text/plain": [
       "3561"
      ]
     },
     "execution_count": 7,
     "metadata": {},
     "output_type": "execute_result"
    }
   ],
   "source": [
    "len(lista_procesado)"
   ]
  },
  {
   "cell_type": "markdown",
   "metadata": {},
   "source": [
    "Crear diccionario"
   ]
  },
  {
   "cell_type": "code",
   "execution_count": 8,
   "metadata": {},
   "outputs": [
    {
     "name": "stdout",
     "output_type": "stream",
     "text": [
      "[(0, 1), (1, 1), (2, 1), (3, 1), (4, 1), (5, 1)]\n"
     ]
    }
   ],
   "source": [
    "diccionario = corpora.Dictionary(build_texts(lee_data_file))\n",
    "corpus = [diccionario.doc2bow(text) for text in build_texts(lee_data_file)]\n",
    "\n",
    "print(corpus[0])"
   ]
  },
  {
   "cell_type": "code",
   "execution_count": 9,
   "metadata": {},
   "outputs": [
    {
     "data": {
      "text/plain": [
       "7509"
      ]
     },
     "execution_count": 9,
     "metadata": {},
     "output_type": "execute_result"
    }
   ],
   "source": [
    "len(diccionario.items())"
   ]
  },
  {
   "cell_type": "code",
   "execution_count": 10,
   "metadata": {},
   "outputs": [
    {
     "name": "stdout",
     "output_type": "stream",
     "text": [
      "[(0,\n",
      "  '0.013*\"feliz\" + 0.012*\"querer\" + 0.010*\"mirar\" + 0.009*\"amigo\" + '\n",
      "  '0.008*\"grave\" + 0.007*\"terminar\" + 0.007*\"llorar\" + 0.007*\"amar\" + '\n",
      "  '0.007*\"horrible\" + 0.006*\"imagen\"'),\n",
      " (1,\n",
      "  '0.016*\"divertido\" + 0.011*\"triste\" + 0.010*\"enojo\" + 0.007*\"hijo\" + '\n",
      "  '0.007*\"ironía\" + 0.007*\"volver\" + 0.007*\"mundo\" + 0.006*\"culpa\" + '\n",
      "  '0.006*\"dejar\" + 0.006*\"venganza\"'),\n",
      " (2,\n",
      "  '0.010*\"amiga\" + 0.010*\"quedar\" + 0.008*\"pasar\" + 0.008*\"poner\" + '\n",
      "  '0.007*\"papá\" + 0.007*\"suerte\" + 0.007*\"vida\" + 0.007*\"imaginar\" + '\n",
      "  '0.007*\"buscar\" + 0.006*\"peligroso\"'),\n",
      " (3,\n",
      "  '0.018*\"querer\" + 0.011*\"gustar\" + 0.010*\"depresión\" + 0.009*\"cosa\" + '\n",
      "  '0.008*\"noche\" + 0.007*\"llamar\" + 0.007*\"jajajaja\" + 0.007*\"hablar\" + '\n",
      "  '0.007*\"peligro\" + 0.006*\"entender\"'),\n",
      " (4,\n",
      "  '0.019*\"dormir\" + 0.013*\"horror\" + 0.010*\"pasar\" + 0.008*\"salir\" + '\n",
      "  '0.008*\"genial\" + 0.007*\"mierda\" + 0.007*\"leer\" + 0.007*\"depender\" + '\n",
      "  '0.007*\"llorar\" + 0.006*\"único\"'),\n",
      " (5,\n",
      "  '0.014*\"terrible\" + 0.013*\"orgulloso\" + 0.010*\"mañana\" + 0.009*\"odio\" + '\n",
      "  '0.009*\"venir\" + 0.008*\"jugar\" + 0.007*\"esperar\" + 0.007*\"tomar\" + '\n",
      "  '0.007*\"sentir\" + 0.007*\"sueño\"'),\n",
      " (6,\n",
      "  '0.010*\"risa\" + 0.007*\"pesadilla\" + 0.007*\"querer\" + 0.007*\"temor\" + '\n",
      "  '0.007*\"serio\" + 0.006*\"kcamexico\" + 0.006*\"gustar\" + 0.006*\"ofender\" + '\n",
      "  '0.006*\"dejar\" + 0.006*\"poner\"'),\n",
      " (7,\n",
      "  '0.014*\"aburrido\" + 0.011*\"vida\" + 0.009*\"feliz\" + 0.008*\"café\" + '\n",
      "  '0.007*\"gusto\" + 0.007*\"persona\" + 0.007*\"negro\" + 0.006*\"mierda\" + '\n",
      "  '0.006*\"pobre\" + 0.005*\"rayito\"'),\n",
      " (8,\n",
      "  '0.015*\"sentir\" + 0.012*\"nervioso\" + 0.008*\"ansiós\" + 0.008*\"indignado\" + '\n",
      "  '0.007*\"mandar\" + 0.007*\"poner\" + 0.007*\"dios\" + 0.006*\"gracia\" + '\n",
      "  '0.006*\"emocionado\" + 0.006*\"sospechoso\"'),\n",
      " (9,\n",
      "  '0.024*\"pasar\" + 0.013*\"querer\" + 0.011*\"sacar\" + 0.011*\"gente\" + '\n",
      "  '0.010*\"poner\" + 0.010*\"rabia\" + 0.009*\"llorar\" + 0.008*\"persona\" + '\n",
      "  '0.008*\"hablar\" + 0.007*\"nombre\"'),\n",
      " (10,\n",
      "  '0.013*\"querer\" + 0.012*\"salir\" + 0.011*\"enogir\" + 0.008*\"lamentable\" + '\n",
      "  '0.008*\"perder\" + 0.008*\"hora\" + 0.007*\"tristeza\" + 0.007*\"miedo\" + '\n",
      "  '0.007*\"enojado\" + 0.006*\"ironía\"')]\n"
     ]
    }
   ],
   "source": [
    "warnings.filterwarnings('ignore')\n",
    "\n",
    "ldamodel = LdaModel(corpus = corpus, num_topics=11, id2word=diccionario, iterations=5000)\n",
    "pprint(ldamodel.print_topics())"
   ]
  },
  {
   "cell_type": "code",
   "execution_count": 15,
   "metadata": {},
   "outputs": [
    {
     "data": {
      "text/plain": [
       "[(5, 0.9090491)]"
      ]
     },
     "execution_count": 15,
     "metadata": {},
     "output_type": "execute_result"
    }
   ],
   "source": [
    "ldamodel[corpus[4]]"
   ]
  },
  {
   "cell_type": "code",
   "execution_count": null,
   "metadata": {},
   "outputs": [],
   "source": []
  }
 ],
 "metadata": {
  "kernelspec": {
   "display_name": "trabajonlp",
   "language": "python",
   "name": "python3"
  },
  "language_info": {
   "codemirror_mode": {
    "name": "ipython",
    "version": 3
   },
   "file_extension": ".py",
   "mimetype": "text/x-python",
   "name": "python",
   "nbconvert_exporter": "python",
   "pygments_lexer": "ipython3",
   "version": "3.12.4"
  }
 },
 "nbformat": 4,
 "nbformat_minor": 2
}
