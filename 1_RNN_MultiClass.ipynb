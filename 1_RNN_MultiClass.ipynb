{
 "cells": [
  {
   "cell_type": "markdown",
   "metadata": {},
   "source": [
    "## Trabajo final módulo NLP"
   ]
  },
  {
   "cell_type": "markdown",
   "metadata": {},
   "source": [
    "#### Clasificación multietiqueta de los tweets del archivo sem_eval_train.csv respecto a 11 sentimientos:\n",
    "- anger\n",
    "- anticipation\n",
    "- disgust\n",
    "- fear\n",
    "- joy\n",
    "- love\n",
    "- optimism\n",
    "- pessimism\n",
    "- sadness\n",
    "- surprise\n",
    "- trust\n",
    "\n",
    "#### Cada tweet puede pertenecer a varias clases"
   ]
  },
  {
   "cell_type": "markdown",
   "metadata": {},
   "source": [
    "### En este notebook probaré un modelo sencillo usando una RNN para un clasificador Multi clase."
   ]
  },
  {
   "cell_type": "code",
   "execution_count": null,
   "metadata": {},
   "outputs": [],
   "source": []
  }
 ],
 "metadata": {
  "language_info": {
   "name": "python"
  }
 },
 "nbformat": 4,
 "nbformat_minor": 2
}
